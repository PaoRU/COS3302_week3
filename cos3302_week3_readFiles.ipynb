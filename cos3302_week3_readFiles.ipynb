{
  "nbformat": 4,
  "nbformat_minor": 0,
  "metadata": {
    "colab": {
      "name": "cos3302_week3_readFiles.ipynb",
      "provenance": [],
      "toc_visible": true,
      "mount_file_id": "1xsc2oiZC2EWtLbTQnrCOlIaz-8vG4s6X",
      "authorship_tag": "ABX9TyNpoYSN1wM83y1QDiYAPLEu",
      "include_colab_link": true
    },
    "kernelspec": {
      "name": "python3",
      "display_name": "Python 3"
    },
    "language_info": {
      "name": "python"
    }
  },
  "cells": [
    {
      "cell_type": "markdown",
      "metadata": {
        "id": "view-in-github",
        "colab_type": "text"
      },
      "source": [
        "<a href=\"https://colab.research.google.com/github/PaoRU/COS3302_week3/blob/main/cos3302_week3_readFiles.ipynb\" target=\"_parent\"><img src=\"https://colab.research.google.com/assets/colab-badge.svg\" alt=\"Open In Colab\"/></a>"
      ]
    },
    {
      "cell_type": "markdown",
      "source": [
        "# Create data"
      ],
      "metadata": {
        "id": "kXyzN50tmUxE"
      }
    },
    {
      "cell_type": "code",
      "execution_count": null,
      "metadata": {
        "id": "QmabCUcwmRXq"
      },
      "outputs": [],
      "source": [
        "#import libraries\n",
        "import pandas as pd"
      ]
    },
    {
      "cell_type": "markdown",
      "source": [
        "## Mount my GDrive"
      ],
      "metadata": {
        "id": "D4jkjk6gm-k-"
      }
    },
    {
      "cell_type": "code",
      "source": [
        "from google.colab import drive\n",
        "ROOT = \"/content/GDrive\"\n",
        "drive.mount(ROOT)"
      ],
      "metadata": {
        "colab": {
          "base_uri": "https://localhost:8080/"
        },
        "id": "rmYhMYMmnB8s",
        "outputId": "d21123fc-adbf-42fe-b398-8aaa73ea43dc"
      },
      "execution_count": null,
      "outputs": [
        {
          "output_type": "stream",
          "name": "stdout",
          "text": [
            "Mounted at /content/GDrive\n"
          ]
        }
      ]
    },
    {
      "cell_type": "markdown",
      "source": [
        "## Excel format"
      ],
      "metadata": {
        "id": "Dubjxi5cnOIg"
      }
    },
    {
      "cell_type": "code",
      "source": [
        "# Read Excel file\n",
        "excel_path = \"/content/GDrive/MyDrive/COS3302/week3/data_files/courses.XLSX\"\n",
        "df = pd.read_excel(excel_path)\n",
        "print(df)"
      ],
      "metadata": {
        "colab": {
          "base_uri": "https://localhost:8080/"
        },
        "id": "sK7e_073nGrP",
        "outputId": "2bfc380d-0a88-4e5d-b7b9-bc9034c9ffe6"
      },
      "execution_count": null,
      "outputs": [
        {
          "output_type": "stream",
          "name": "stdout",
          "text": [
            "  Courses     Fee Duration   Discount \n",
            "0    Spark  25000   50 Days       2000\n",
            "1   Pandas  20000   35 Days       1000\n",
            "2     Java  15000       NaN        800\n",
            "3   Python  15000   30 Days        500\n",
            "4      PHP  18000   30 Days        800\n"
          ]
        }
      ]
    },
    {
      "cell_type": "code",
      "source": [
        "# Read excel by considering first row as data\n",
        "columns = [\"courses\", \"course_fee\", \"course_duration\", \"course_discount\"]\n",
        "df2 = pd.read_excel(excel_path, header=0, names = columns)\n",
        "df2"
      ],
      "metadata": {
        "colab": {
          "base_uri": "https://localhost:8080/",
          "height": 206
        },
        "id": "e8xgokqlowjY",
        "outputId": "e0b2686b-77f9-4d2f-e8ea-48d13c2a248f"
      },
      "execution_count": null,
      "outputs": [
        {
          "output_type": "execute_result",
          "data": {
            "text/plain": [
              "  courses  course_fee course_duration  course_discount\n",
              "0   Spark       25000         50 Days             2000\n",
              "1  Pandas       20000         35 Days             1000\n",
              "2    Java       15000             NaN              800\n",
              "3  Python       15000         30 Days              500\n",
              "4     PHP       18000         30 Days              800"
            ],
            "text/html": [
              "\n",
              "  <div id=\"df-195d46b8-241a-46d7-afaf-f7f8629faca0\">\n",
              "    <div class=\"colab-df-container\">\n",
              "      <div>\n",
              "<style scoped>\n",
              "    .dataframe tbody tr th:only-of-type {\n",
              "        vertical-align: middle;\n",
              "    }\n",
              "\n",
              "    .dataframe tbody tr th {\n",
              "        vertical-align: top;\n",
              "    }\n",
              "\n",
              "    .dataframe thead th {\n",
              "        text-align: right;\n",
              "    }\n",
              "</style>\n",
              "<table border=\"1\" class=\"dataframe\">\n",
              "  <thead>\n",
              "    <tr style=\"text-align: right;\">\n",
              "      <th></th>\n",
              "      <th>courses</th>\n",
              "      <th>course_fee</th>\n",
              "      <th>course_duration</th>\n",
              "      <th>course_discount</th>\n",
              "    </tr>\n",
              "  </thead>\n",
              "  <tbody>\n",
              "    <tr>\n",
              "      <th>0</th>\n",
              "      <td>Spark</td>\n",
              "      <td>25000</td>\n",
              "      <td>50 Days</td>\n",
              "      <td>2000</td>\n",
              "    </tr>\n",
              "    <tr>\n",
              "      <th>1</th>\n",
              "      <td>Pandas</td>\n",
              "      <td>20000</td>\n",
              "      <td>35 Days</td>\n",
              "      <td>1000</td>\n",
              "    </tr>\n",
              "    <tr>\n",
              "      <th>2</th>\n",
              "      <td>Java</td>\n",
              "      <td>15000</td>\n",
              "      <td>NaN</td>\n",
              "      <td>800</td>\n",
              "    </tr>\n",
              "    <tr>\n",
              "      <th>3</th>\n",
              "      <td>Python</td>\n",
              "      <td>15000</td>\n",
              "      <td>30 Days</td>\n",
              "      <td>500</td>\n",
              "    </tr>\n",
              "    <tr>\n",
              "      <th>4</th>\n",
              "      <td>PHP</td>\n",
              "      <td>18000</td>\n",
              "      <td>30 Days</td>\n",
              "      <td>800</td>\n",
              "    </tr>\n",
              "  </tbody>\n",
              "</table>\n",
              "</div>\n",
              "      <button class=\"colab-df-convert\" onclick=\"convertToInteractive('df-195d46b8-241a-46d7-afaf-f7f8629faca0')\"\n",
              "              title=\"Convert this dataframe to an interactive table.\"\n",
              "              style=\"display:none;\">\n",
              "        \n",
              "  <svg xmlns=\"http://www.w3.org/2000/svg\" height=\"24px\"viewBox=\"0 0 24 24\"\n",
              "       width=\"24px\">\n",
              "    <path d=\"M0 0h24v24H0V0z\" fill=\"none\"/>\n",
              "    <path d=\"M18.56 5.44l.94 2.06.94-2.06 2.06-.94-2.06-.94-.94-2.06-.94 2.06-2.06.94zm-11 1L8.5 8.5l.94-2.06 2.06-.94-2.06-.94L8.5 2.5l-.94 2.06-2.06.94zm10 10l.94 2.06.94-2.06 2.06-.94-2.06-.94-.94-2.06-.94 2.06-2.06.94z\"/><path d=\"M17.41 7.96l-1.37-1.37c-.4-.4-.92-.59-1.43-.59-.52 0-1.04.2-1.43.59L10.3 9.45l-7.72 7.72c-.78.78-.78 2.05 0 2.83L4 21.41c.39.39.9.59 1.41.59.51 0 1.02-.2 1.41-.59l7.78-7.78 2.81-2.81c.8-.78.8-2.07 0-2.86zM5.41 20L4 18.59l7.72-7.72 1.47 1.35L5.41 20z\"/>\n",
              "  </svg>\n",
              "      </button>\n",
              "      \n",
              "  <style>\n",
              "    .colab-df-container {\n",
              "      display:flex;\n",
              "      flex-wrap:wrap;\n",
              "      gap: 12px;\n",
              "    }\n",
              "\n",
              "    .colab-df-convert {\n",
              "      background-color: #E8F0FE;\n",
              "      border: none;\n",
              "      border-radius: 50%;\n",
              "      cursor: pointer;\n",
              "      display: none;\n",
              "      fill: #1967D2;\n",
              "      height: 32px;\n",
              "      padding: 0 0 0 0;\n",
              "      width: 32px;\n",
              "    }\n",
              "\n",
              "    .colab-df-convert:hover {\n",
              "      background-color: #E2EBFA;\n",
              "      box-shadow: 0px 1px 2px rgba(60, 64, 67, 0.3), 0px 1px 3px 1px rgba(60, 64, 67, 0.15);\n",
              "      fill: #174EA6;\n",
              "    }\n",
              "\n",
              "    [theme=dark] .colab-df-convert {\n",
              "      background-color: #3B4455;\n",
              "      fill: #D2E3FC;\n",
              "    }\n",
              "\n",
              "    [theme=dark] .colab-df-convert:hover {\n",
              "      background-color: #434B5C;\n",
              "      box-shadow: 0px 1px 3px 1px rgba(0, 0, 0, 0.15);\n",
              "      filter: drop-shadow(0px 1px 2px rgba(0, 0, 0, 0.3));\n",
              "      fill: #FFFFFF;\n",
              "    }\n",
              "  </style>\n",
              "\n",
              "      <script>\n",
              "        const buttonEl =\n",
              "          document.querySelector('#df-195d46b8-241a-46d7-afaf-f7f8629faca0 button.colab-df-convert');\n",
              "        buttonEl.style.display =\n",
              "          google.colab.kernel.accessAllowed ? 'block' : 'none';\n",
              "\n",
              "        async function convertToInteractive(key) {\n",
              "          const element = document.querySelector('#df-195d46b8-241a-46d7-afaf-f7f8629faca0');\n",
              "          const dataTable =\n",
              "            await google.colab.kernel.invokeFunction('convertToInteractive',\n",
              "                                                     [key], {});\n",
              "          if (!dataTable) return;\n",
              "\n",
              "          const docLinkHtml = 'Like what you see? Visit the ' +\n",
              "            '<a target=\"_blank\" href=https://colab.research.google.com/notebooks/data_table.ipynb>data table notebook</a>'\n",
              "            + ' to learn more about interactive tables.';\n",
              "          element.innerHTML = '';\n",
              "          dataTable['output_type'] = 'display_data';\n",
              "          await google.colab.output.renderOutput(dataTable, element);\n",
              "          const docLink = document.createElement('div');\n",
              "          docLink.innerHTML = docLinkHtml;\n",
              "          element.appendChild(docLink);\n",
              "        }\n",
              "      </script>\n",
              "    </div>\n",
              "  </div>\n",
              "  "
            ]
          },
          "metadata": {},
          "execution_count": 23
        }
      ]
    },
    {
      "cell_type": "code",
      "source": [
        "# Read excel by setting column as index\n",
        "df2 = pd.read_excel(excel_path, index_col=0)\n",
        "print(df2)"
      ],
      "metadata": {
        "colab": {
          "base_uri": "https://localhost:8080/"
        },
        "id": "Hkq7g2OpqgwN",
        "outputId": "64208f07-603d-4a44-a94b-2e1fa0596597"
      },
      "execution_count": null,
      "outputs": [
        {
          "output_type": "stream",
          "name": "stdout",
          "text": [
            "            Fee Duration   Discount \n",
            "Courses                             \n",
            "Spark     25000   50 Days       2000\n",
            "Pandas    20000   35 Days       1000\n",
            "Java      15000       NaN        800\n",
            "Python    15000   30 Days        500\n",
            "PHP       18000   30 Days        800\n"
          ]
        }
      ]
    },
    {
      "cell_type": "code",
      "source": [
        "# Read specific excel sheet\n",
        "df = pd.read_excel(excel_path, sheet_name='Sheet1')\n",
        "print(df)"
      ],
      "metadata": {
        "colab": {
          "base_uri": "https://localhost:8080/"
        },
        "id": "rYhDgUT6rYXj",
        "outputId": "3279dc14-9d76-48a6-fa53-7938d8e11c33"
      },
      "execution_count": null,
      "outputs": [
        {
          "output_type": "stream",
          "name": "stdout",
          "text": [
            "  Courses     Fee Duration   Discount \n",
            "0    Spark  25000   50 Days       2000\n",
            "1   Pandas  20000   35 Days       1000\n",
            "2     Java  15000       NaN        800\n",
            "3   Python  15000   30 Days        500\n",
            "4      PHP  18000   30 Days        800\n"
          ]
        }
      ]
    },
    {
      "cell_type": "code",
      "source": [
        "# Read Multiple sheets\n",
        "dict_df = pd.read_excel(excel_path, sheet_name=['Sheet1','Sheet2'])\n",
        "\n",
        "# Get DataFrame from Dict\n",
        "course_df = dict_df.get('Sheet2')\n",
        "course_updated_df = dict_df.get('Sheet2')\n",
        "\n",
        "# Print DataFrame's\n",
        "print(course_df)\n",
        "print(course_updated_df)"
      ],
      "metadata": {
        "id": "SeNdwvMRr8h2",
        "colab": {
          "base_uri": "https://localhost:8080/"
        },
        "outputId": "0b8d74e2-21cf-4882-c7df-57426d0cfa3e"
      },
      "execution_count": null,
      "outputs": [
        {
          "output_type": "stream",
          "name": "stdout",
          "text": [
            "  Courses     Fee Duration   Discount \n",
            "0    Spark  25000   50 Days       2000\n",
            "1   Pandas  20000   35 Days       1000\n",
            "2     Java  15000   30 Days        700\n",
            "3   Python  15000   30 Days        500\n",
            "4      PHP  18000   30 Days        800\n",
            "  Courses     Fee Duration   Discount \n",
            "0    Spark  25000   50 Days       2000\n",
            "1   Pandas  20000   35 Days       1000\n",
            "2     Java  15000   30 Days        700\n",
            "3   Python  15000   30 Days        500\n",
            "4      PHP  18000   30 Days        800\n"
          ]
        }
      ]
    },
    {
      "cell_type": "code",
      "source": [
        "# Read excel by skipping columns\n",
        "df2 = pd.read_excel(excel_path, usecols=[0,2])\n",
        "print(df2)"
      ],
      "metadata": {
        "colab": {
          "base_uri": "https://localhost:8080/"
        },
        "id": "goyhG6Hf4cMG",
        "outputId": "f8195acd-bf27-49b1-e24d-5b6c9d27e1d9"
      },
      "execution_count": null,
      "outputs": [
        {
          "output_type": "stream",
          "name": "stdout",
          "text": [
            "  Courses  Duration \n",
            "0    Spark   50 Days\n",
            "1   Pandas   35 Days\n",
            "2     Java       NaN\n",
            "3   Python   30 Days\n",
            "4      PHP   30 Days\n"
          ]
        }
      ]
    },
    {
      "cell_type": "code",
      "source": [
        "# Skip columns by range\n",
        "df2 = pd.read_excel(excel_path, usecols='B:D')\n",
        "print(df2)"
      ],
      "metadata": {
        "colab": {
          "base_uri": "https://localhost:8080/"
        },
        "id": "P4RE-FqC5k3u",
        "outputId": "e43061b6-e509-40e5-b083-1ca464c64458"
      },
      "execution_count": null,
      "outputs": [
        {
          "output_type": "stream",
          "name": "stdout",
          "text": [
            "     Fee Duration   Discount \n",
            "0  25000   50 Days       2000\n",
            "1  20000   35 Days       1000\n",
            "2  15000       NaN        800\n",
            "3  15000   30 Days        500\n",
            "4  18000   30 Days        800\n"
          ]
        }
      ]
    },
    {
      "cell_type": "code",
      "source": [
        "# Read excel file by skipping rows\n",
        "df2 = pd.read_excel(excel_path, skiprows=2)\n",
        "print(df2)"
      ],
      "metadata": {
        "colab": {
          "base_uri": "https://localhost:8080/"
        },
        "id": "YRcziTlS5-1w",
        "outputId": "1b7b7397-b148-4354-9dcf-cdc1f3513067"
      },
      "execution_count": null,
      "outputs": [
        {
          "output_type": "stream",
          "name": "stdout",
          "text": [
            "   Pandas  20000  35 Days  1000\n",
            "0    Java  15000      NaN   800\n",
            "1  Python  15000  30 Days   500\n",
            "2     PHP  18000  30 Days   800\n"
          ]
        }
      ]
    },
    {
      "cell_type": "code",
      "source": [
        "# Using skiprows to skip rows\n",
        "df2 = pd.read_excel(excel_path, skiprows=[1,3])\n",
        "print(df2)"
      ],
      "metadata": {
        "colab": {
          "base_uri": "https://localhost:8080/"
        },
        "id": "F-sq_O7h8VAT",
        "outputId": "4f8bac51-a6e4-46be-f324-792c107c6c89"
      },
      "execution_count": null,
      "outputs": [
        {
          "output_type": "stream",
          "name": "stdout",
          "text": [
            "  Courses     Fee Duration   Discount \n",
            "0   Pandas  20000   35 Days       1000\n",
            "1   Python  15000   30 Days        500\n",
            "2      PHP  18000   30 Days        800\n"
          ]
        }
      ]
    },
    {
      "cell_type": "code",
      "source": [
        "# Using skiprows with lambda\n",
        "df2 = pd.read_excel(excel_path, skiprows=lambda x: x in [1,3])\n",
        "print(df2)"
      ],
      "metadata": {
        "colab": {
          "base_uri": "https://localhost:8080/"
        },
        "id": "_jid3g0n909X",
        "outputId": "73a58d31-9c1f-461f-8015-2221f4b539ab"
      },
      "execution_count": null,
      "outputs": [
        {
          "output_type": "stream",
          "name": "stdout",
          "text": [
            "  Courses     Fee Duration   Discount \n",
            "0   Pandas  20000   35 Days       1000\n",
            "1   Python  15000   30 Days        500\n",
            "2      PHP  18000   30 Days        800\n"
          ]
        }
      ]
    },
    {
      "cell_type": "markdown",
      "source": [
        "## Json format"
      ],
      "metadata": {
        "id": "89UbSv5_-lnh"
      }
    },
    {
      "cell_type": "code",
      "source": [
        "# Read json from String\n",
        "json_str = '{\"Courses\":{\"r1\":\"Spark\"},\"Fee\":{\"r1\":\"25000\"},\"Duration\":{\"r1\":\"50 Days\"}}'\n",
        "df = pd.read_json(json_str)\n",
        "print(df)"
      ],
      "metadata": {
        "colab": {
          "base_uri": "https://localhost:8080/"
        },
        "id": "DtJXvoo1-bL8",
        "outputId": "a029b9ac-4237-4774-9880-2b21ce630a30"
      },
      "execution_count": null,
      "outputs": [
        {
          "output_type": "stream",
          "name": "stdout",
          "text": [
            "   Courses    Fee Duration\n",
            "r1   Spark  25000  50 Days\n"
          ]
        }
      ]
    },
    {
      "cell_type": "code",
      "source": [
        "# Read json from String\n",
        "json_str = '[{\"Courses\":\"Spark\",\"Fee\":\"25000\",\"Duration\":\"50 Days\",\"Discount\":\"2000\"}]'\n",
        "df = pd.read_json(json_str, orient='records')\n",
        "print(df)"
      ],
      "metadata": {
        "colab": {
          "base_uri": "https://localhost:8080/"
        },
        "id": "YAo7AdBO-z2A",
        "outputId": "f9f588d0-0e75-4a84-ea0d-16a4f8a41fc3"
      },
      "execution_count": null,
      "outputs": [
        {
          "output_type": "stream",
          "name": "stdout",
          "text": [
            "  Courses    Fee Duration  Discount\n",
            "0   Spark  25000  50 Days      2000\n"
          ]
        }
      ]
    },
    {
      "cell_type": "code",
      "source": [
        "json_path = \"/content/GDrive/MyDrive/COS3302/week3/data_files/courses_data.json\"\n",
        "df = pd.read_json(json_path)\n",
        "print(df)"
      ],
      "metadata": {
        "colab": {
          "base_uri": "https://localhost:8080/"
        },
        "id": "ulop_23X_qcd",
        "outputId": "03baeabc-0d1b-4477-a901-bdadaf83665d"
      },
      "execution_count": null,
      "outputs": [
        {
          "output_type": "stream",
          "name": "stdout",
          "text": [
            "  Courses    Fee Duration\n",
            "0   Spark  25000  50 Days\n",
            "1  Pandas  20000  35 Days\n",
            "2    Java  15000         \n"
          ]
        }
      ]
    },
    {
      "cell_type": "code",
      "source": [
        "# Read JSON file with records orient\n",
        "df = pd.read_json(json_path, orient='records')\n",
        "print(df)"
      ],
      "metadata": {
        "colab": {
          "base_uri": "https://localhost:8080/"
        },
        "id": "z3NbqZ5EAUBX",
        "outputId": "e937fb6c-5f43-4f28-86f8-5acb12eb667f"
      },
      "execution_count": null,
      "outputs": [
        {
          "output_type": "stream",
          "name": "stdout",
          "text": [
            "  Courses    Fee Duration\n",
            "0   Spark  25000  50 Days\n",
            "1  Pandas  20000  35 Days\n",
            "2    Java  15000         \n"
          ]
        }
      ]
    },
    {
      "cell_type": "markdown",
      "source": [
        "# Exercise"
      ],
      "metadata": {
        "id": "x8tAIm7RBCeU"
      }
    },
    {
      "cell_type": "markdown",
      "source": [
        "## CSV format"
      ],
      "metadata": {
        "id": "90dvQ5SPBL4y"
      }
    },
    {
      "cell_type": "code",
      "source": [
        "csv_path = \"/content/GDrive/MyDrive/COS3302/week3/data_files/courses.csv\"\n",
        "df = pd.read_csv(csv_path)\n",
        "print(df)"
      ],
      "metadata": {
        "colab": {
          "base_uri": "https://localhost:8080/"
        },
        "id": "hG33iz7fCuwG",
        "outputId": "b4f2e571-5a21-4aec-cca5-f9f17bcfb324"
      },
      "execution_count": null,
      "outputs": [
        {
          "output_type": "stream",
          "name": "stdout",
          "text": [
            "    Spark  25000  50 Days  2000\n",
            "0  Pandas  20000  35 Days  1000\n",
            "1    Java  15000      NaN   800\n",
            "2  Python  15000  30 Days   500\n",
            "3     PHP  18000  30 Days   800\n"
          ]
        }
      ]
    },
    {
      "cell_type": "markdown",
      "source": [
        "### 1"
      ],
      "metadata": {
        "id": "gGk_Ck8LB3U4"
      }
    },
    {
      "cell_type": "code",
      "source": [
        "df = pd.read_csv(csv_path, header=None)\n",
        "print(df)"
      ],
      "metadata": {
        "colab": {
          "base_uri": "https://localhost:8080/"
        },
        "id": "Y4eVXQivGASm",
        "outputId": "57cec514-fad4-4f31-bd33-a4b5270c5630"
      },
      "execution_count": null,
      "outputs": [
        {
          "output_type": "stream",
          "name": "stdout",
          "text": [
            "        0      1        2     3\n",
            "0   Spark  25000  50 Days  2000\n",
            "1  Pandas  20000  35 Days  1000\n",
            "2    Java  15000      NaN   800\n",
            "3  Python  15000  30 Days   500\n",
            "4     PHP  18000  30 Days   800\n"
          ]
        }
      ]
    },
    {
      "cell_type": "markdown",
      "source": [
        "### 2"
      ],
      "metadata": {
        "id": "OqEiTLqsHfk8"
      }
    },
    {
      "cell_type": "code",
      "source": [
        "# Define column names\n",
        "columns = ['Courses','Fee','Duration','Discount']\n",
        "df =pd.read_csv(csv_path, names=columns)\n",
        "print(df)"
      ],
      "metadata": {
        "colab": {
          "base_uri": "https://localhost:8080/"
        },
        "id": "rY-mIrG7A_EB",
        "outputId": "6a60a95f-2fba-4a7c-9620-72ef1dc5f7cd"
      },
      "execution_count": null,
      "outputs": [
        {
          "output_type": "stream",
          "name": "stdout",
          "text": [
            "  Courses    Fee Duration  Discount\n",
            "0   Spark  25000  50 Days      2000\n",
            "1  Pandas  20000  35 Days      1000\n",
            "2    Java  15000      NaN       800\n",
            "3  Python  15000  30 Days       500\n",
            "4     PHP  18000  30 Days       800\n"
          ]
        }
      ]
    },
    {
      "cell_type": "markdown",
      "source": [
        "### 3"
      ],
      "metadata": {
        "id": "wPxat64r0YhE"
      }
    },
    {
      "cell_type": "code",
      "source": [
        "df = pd.read_csv(csv_path, names=columns, index_col=0)\n",
        "print(df)"
      ],
      "metadata": {
        "id": "DnNbTjq4PvSE",
        "colab": {
          "base_uri": "https://localhost:8080/"
        },
        "outputId": "fb6c2dd0-bb55-49a0-e3b7-19cbb8d7446b"
      },
      "execution_count": null,
      "outputs": [
        {
          "output_type": "stream",
          "name": "stdout",
          "text": [
            "           Fee Duration  Discount\n",
            "Courses                          \n",
            "Spark    25000  50 Days      2000\n",
            "Pandas   20000  35 Days      1000\n",
            "Java     15000      NaN       800\n",
            "Python   15000  30 Days       500\n",
            "PHP      18000  30 Days       800\n"
          ]
        }
      ]
    },
    {
      "cell_type": "markdown",
      "source": [
        "### 4"
      ],
      "metadata": {
        "id": "uPensVmK_Jlb"
      }
    },
    {
      "cell_type": "code",
      "source": [
        "df = pd.read_csv(csv_path, names=columns, nrows=3)\n",
        "print(df)"
      ],
      "metadata": {
        "colab": {
          "base_uri": "https://localhost:8080/"
        },
        "id": "O3ZGzOxCHCSl",
        "outputId": "9e85d28d-2d45-4d54-f669-0c31ac06a35e"
      },
      "execution_count": null,
      "outputs": [
        {
          "output_type": "stream",
          "name": "stdout",
          "text": [
            "  Courses    Fee Duration  Discount\n",
            "0   Spark  25000  50 Days      2000\n",
            "1  Pandas  20000  35 Days      1000\n",
            "2    Java  15000      NaN       800\n"
          ]
        }
      ]
    },
    {
      "cell_type": "markdown",
      "source": [
        "### 5"
      ],
      "metadata": {
        "id": "sR1Nr_jt_MGm"
      }
    },
    {
      "cell_type": "code",
      "source": [
        "df = pd.read_csv(csv_path, names=columns, skiprows=2)\n",
        "print(df)"
      ],
      "metadata": {
        "colab": {
          "base_uri": "https://localhost:8080/"
        },
        "id": "dBFI1YgAFa5e",
        "outputId": "0c3adf31-b3fe-42f5-9a63-f3fb598f4b72"
      },
      "execution_count": null,
      "outputs": [
        {
          "output_type": "stream",
          "name": "stdout",
          "text": [
            "  Courses    Fee Duration  Discount\n",
            "0    Java  15000      NaN       800\n",
            "1  Python  15000  30 Days       500\n",
            "2     PHP  18000  30 Days       800\n"
          ]
        }
      ]
    },
    {
      "cell_type": "markdown",
      "source": [
        "### 6"
      ],
      "metadata": {
        "id": "eEUuWZ4A_N2B"
      }
    },
    {
      "cell_type": "code",
      "source": [
        "df = pd.read_csv(csv_path, names=columns, skiprows=[1,3])\n",
        "print(df)"
      ],
      "metadata": {
        "colab": {
          "base_uri": "https://localhost:8080/"
        },
        "id": "J_-HkzmbJPZX",
        "outputId": "3e4080a7-a20e-48e7-ac24-890c5f6a9df8"
      },
      "execution_count": null,
      "outputs": [
        {
          "output_type": "stream",
          "name": "stdout",
          "text": [
            "  Courses    Fee Duration  Discount\n",
            "0   Spark  25000  50 Days      2000\n",
            "1    Java  15000      NaN       800\n",
            "2     PHP  18000  30 Days       800\n"
          ]
        }
      ]
    },
    {
      "cell_type": "markdown",
      "source": [
        "### 7"
      ],
      "metadata": {
        "id": "b9XVH5Yg_PQf"
      }
    },
    {
      "cell_type": "code",
      "source": [
        "df = pd.read_csv(csv_path, names=columns, usecols=[0])\n",
        "print(df)"
      ],
      "metadata": {
        "colab": {
          "base_uri": "https://localhost:8080/"
        },
        "id": "zTXJw1roVxPY",
        "outputId": "023c2cf6-3fbb-4eab-9215-013a77337927"
      },
      "execution_count": null,
      "outputs": [
        {
          "output_type": "stream",
          "name": "stdout",
          "text": [
            "  Courses\n",
            "0   Spark\n",
            "1  Pandas\n",
            "2    Java\n",
            "3  Python\n",
            "4     PHP\n"
          ]
        }
      ]
    },
    {
      "cell_type": "markdown",
      "source": [
        "### 8"
      ],
      "metadata": {
        "id": "uFhEjBD-_QP5"
      }
    },
    {
      "cell_type": "code",
      "source": [
        "df = pd.read_csv(csv_path, names=columns, usecols=[0,3])\n",
        "print(df)"
      ],
      "metadata": {
        "colab": {
          "base_uri": "https://localhost:8080/"
        },
        "id": "aRxnbsyfHfhz",
        "outputId": "c0d80268-5a75-43cd-8fb6-7d77cc29cb87"
      },
      "execution_count": null,
      "outputs": [
        {
          "output_type": "stream",
          "name": "stdout",
          "text": [
            "  Courses  Discount\n",
            "0   Spark      2000\n",
            "1  Pandas      1000\n",
            "2    Java       800\n",
            "3  Python       500\n",
            "4     PHP       800\n"
          ]
        }
      ]
    },
    {
      "cell_type": "markdown",
      "source": [
        "### 9"
      ],
      "metadata": {
        "id": "foWuaUxw_RLN"
      }
    },
    {
      "cell_type": "code",
      "source": [
        "df = pd.read_csv(csv_path, names=columns, keep_default_na=0)\n",
        "print(df)"
      ],
      "metadata": {
        "colab": {
          "base_uri": "https://localhost:8080/"
        },
        "id": "YJThorK7IENa",
        "outputId": "cc948da6-ead0-4f56-cc1b-a41c3b9d3192"
      },
      "execution_count": null,
      "outputs": [
        {
          "output_type": "stream",
          "name": "stdout",
          "text": [
            "  Courses    Fee Duration  Discount\n",
            "0   Spark  25000  50 Days      2000\n",
            "1  Pandas  20000  35 Days      1000\n",
            "2    Java  15000                800\n",
            "3  Python  15000  30 Days       500\n",
            "4     PHP  18000  30 Days       800\n"
          ]
        }
      ]
    },
    {
      "cell_type": "markdown",
      "source": [
        "### 10"
      ],
      "metadata": {
        "id": "bPuditAL_SaM"
      }
    },
    {
      "cell_type": "code",
      "source": [
        "df = pd.read_csv(csv_path, header=None, sep='|')\n",
        "print(df)"
      ],
      "metadata": {
        "colab": {
          "base_uri": "https://localhost:8080/"
        },
        "id": "QxtrlHfuV70-",
        "outputId": "f4c64e53-26cc-4fe3-d21f-d5f0c0d903ea"
      },
      "execution_count": null,
      "outputs": [
        {
          "output_type": "stream",
          "name": "stdout",
          "text": [
            "                           0\n",
            "0   Spark,25000,50 Days,2000\n",
            "1  Pandas,20000,35 Days,1000\n",
            "2            Java,15000,,800\n",
            "3   Python,15000,30 Days,500\n",
            "4      PHP,18000,30 Days,800\n"
          ]
        }
      ]
    },
    {
      "cell_type": "code",
      "source": [
        ""
      ],
      "metadata": {
        "id": "3pXTBbdBoIEw"
      },
      "execution_count": null,
      "outputs": []
    }
  ]
}